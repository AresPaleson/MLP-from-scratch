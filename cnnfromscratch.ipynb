{
 "cells": [
  {
   "cell_type": "markdown",
   "metadata": {},
   "source": [
    "Convolutional Layer"
   ]
  },
  {
   "cell_type": "code",
   "execution_count": 13,
   "metadata": {},
   "outputs": [],
   "source": [
    "import numpy as np\n",
    "\n",
    "# Convolutional Layer\n",
    "def conv2d(X, filters, stride=1, padding=0):\n",
    "    n_filters, filter_depth, fh, fw = filters.shape\n",
    "    X_depth, X_h, X_w = X.shape\n",
    "\n",
    "    # Calculate output dimensions\n",
    "    out_h = (X_h - fh + 2 * padding) // stride + 1\n",
    "    out_w = (X_w - fw + 2 * padding) // stride + 1\n",
    "\n",
    "    # Initialize output\n",
    "    output = np.zeros((n_filters, out_h, out_w))\n",
    "\n",
    "    # Pad the input if needed\n",
    "    if padding > 0:\n",
    "        X_padded = np.pad(X, ((0, 0), (padding, padding), (padding, padding)), mode='constant')\n",
    "    else:\n",
    "        X_padded = X\n",
    "\n",
    "    # Perform convolution\n",
    "    for f in range(n_filters):\n",
    "        for i in range(out_h):\n",
    "            for j in range(out_w):\n",
    "                h_start = i * stride\n",
    "                h_end = h_start + fh\n",
    "                w_start = j * stride\n",
    "                w_end = w_start + fw\n",
    "                output[f, i, j] = np.sum(X_padded[:, h_start:h_end, w_start:w_end] * filters[f])\n",
    "    return output\n"
   ]
  },
  {
   "cell_type": "markdown",
   "metadata": {},
   "source": [
    "Max Pooling"
   ]
  },
  {
   "cell_type": "code",
   "execution_count": 14,
   "metadata": {},
   "outputs": [],
   "source": [
    "# Max Pooling Layer\n",
    "def max_pool2d(X, pool_size=(2, 2), stride=2):\n",
    "    X_depth, X_h, X_w = X.shape\n",
    "    pool_h, pool_w = pool_size\n",
    "\n",
    "    out_h = (X_h - pool_h) // stride + 1\n",
    "    out_w = (X_w - pool_w) // stride + 1\n",
    "\n",
    "    output = np.zeros((X_depth, out_h, out_w))\n",
    "\n",
    "    for d in range(X_depth):\n",
    "        for i in range(out_h):\n",
    "            for j in range(out_w):\n",
    "                h_start = i * stride\n",
    "                h_end = h_start + pool_h\n",
    "                w_start = j * stride\n",
    "                w_end = w_start + pool_w\n",
    "                output[d, i, j] = np.max(X[d, h_start:h_end, w_start:w_end])\n",
    "\n",
    "    return output\n",
    "\n",
    "# Flatten Layer: reshape into (batch_size, features)\n",
    "def flatten(X):\n",
    "    return X.reshape(1, -1)  # for a single sample, returns shape (1, channels*height*width)\n",
    "\n",
    "# Dense Layer\n",
    "def dense(X, weights, bias, activation=None):\n",
    "    output = np.dot(X, weights) + bias\n",
    "    if activation == 'relu':\n",
    "        output = relu(output)\n",
    "    elif activation == 'softmax':\n",
    "        output = softmax(output)\n",
    "    return output\n",
    "\n",
    "# ReLU Activation\n",
    "def relu(X):\n",
    "    return np.maximum(0, X)\n",
    "\n",
    "# Softmax Activation\n",
    "def softmax(X):\n",
    "    exp_X = np.exp(X - np.max(X))\n",
    "    return exp_X / np.sum(exp_X)"
   ]
  },
  {
   "cell_type": "markdown",
   "metadata": {},
   "source": [
    "Flatten/Dense Layer, ReLU Activation, Softmax funtion"
   ]
  },
  {
   "cell_type": "code",
   "execution_count": 15,
   "metadata": {},
   "outputs": [],
   "source": [
    "class CNN:\n",
    "    def __init__(self):\n",
    "        # First convolution: input channels = 1, output channels = 32\n",
    "        self.filters1 = np.random.randn(32, 1, 3, 3) * 0.01  \n",
    "        # Second convolution: input channels = 32, output channels = 64\n",
    "        self.filters2 = np.random.randn(64, 32, 3, 3) * 0.01  \n",
    "        # Third convolution: input channels = 64, output channels = 64\n",
    "        self.filters3 = np.random.randn(64, 64, 3, 3) * 0.01  \n",
    "        \n",
    "        # For a 28x28 input:\n",
    "        # After first conv (padding=1) and pool → shape: (32, 14, 14)\n",
    "        # After second conv (padding=1) and pool → shape: (64, 7, 7)\n",
    "        # After third conv (padding=1) → shape: (64, 7, 7)\n",
    "        flattened_size = 64 * 7 * 7\n",
    "        \n",
    "        # Dense layers\n",
    "        self.dense_weights1 = np.random.randn(flattened_size, 64) * 0.01\n",
    "        self.dense_bias1 = np.zeros(64)\n",
    "        \n",
    "        self.dense_weights2 = np.random.randn(64, 10) * 0.01\n",
    "        self.dense_bias2 = np.zeros(10)\n",
    "    \n",
    "    def forward(self, X):\n",
    "        # X is expected to have shape (channels, height, width)\n",
    "        # First Convolutional Block\n",
    "        X = conv2d(X, self.filters1, stride=1, padding=1)  # (32, 28, 28)\n",
    "        X = relu(X)\n",
    "        X = max_pool2d(X, pool_size=(2, 2), stride=2)        # (32, 14, 14)\n",
    "        \n",
    "        # Second Convolutional Block\n",
    "        X = conv2d(X, self.filters2, stride=1, padding=1)    # (64, 14, 14)\n",
    "        X = relu(X)\n",
    "        X = max_pool2d(X, pool_size=(2, 2), stride=2)          # (64, 7, 7)\n",
    "        \n",
    "        # Third Convolutional Block\n",
    "        X = conv2d(X, self.filters3, stride=1, padding=1)    # (64, 7, 7)\n",
    "        X = relu(X)\n",
    "        \n",
    "        # Flatten the output\n",
    "        X_flat = flatten(X)  # Now shape is (1, 3136)\n",
    "        \n",
    "        # Dense Layers\n",
    "        X_dense = dense(X_flat, self.dense_weights1, self.dense_bias1, activation='relu')\n",
    "        output = dense(X_dense, self.dense_weights2, self.dense_bias2, activation='softmax')\n",
    "        \n",
    "        return output"
   ]
  },
  {
   "cell_type": "markdown",
   "metadata": {},
   "source": [
    "CNN Model"
   ]
  },
  {
   "cell_type": "code",
   "execution_count": 16,
   "metadata": {},
   "outputs": [],
   "source": [
    "# CNN Model\n",
    "class CNN:\n",
    "    def __init__(self):\n",
    "        # First convolution: input channels = 1, output channels = 32\n",
    "        self.filters1 = np.random.randn(32, 1, 3, 3) * 0.01  \n",
    "        # Second convolution: input channels = 32, output channels = 64\n",
    "        self.filters2 = np.random.randn(64, 32, 3, 3) * 0.01  \n",
    "        # Third convolution: input channels = 64, output channels = 64\n",
    "        self.filters3 = np.random.randn(64, 64, 3, 3) * 0.01  \n",
    "        \n",
    "        # For a 28x28 input:\n",
    "        # After first conv (padding=1) and pool → size remains 28 -> pool reduces to 14x14\n",
    "        # After second conv (padding=1) and pool → 14 -> pool reduces to 7x7\n",
    "        # After third conv (padding=1) → remains 7x7 with 64 channels\n",
    "        flattened_size = 64 * 7 * 7\n",
    "        \n",
    "        # Dense layers\n",
    "        self.dense_weights1 = np.random.randn(flattened_size, 64) * 0.01\n",
    "        self.dense_bias1 = np.zeros(64)\n",
    "        \n",
    "        self.dense_weights2 = np.random.randn(64, 10) * 0.01\n",
    "        self.dense_bias2 = np.zeros(10)\n",
    "    \n",
    "    def forward(self, X):\n",
    "        # X is expected to have shape (channels, height, width)\n",
    "        # First Convolutional Block\n",
    "        X = conv2d(X, self.filters1, stride=1, padding=1)  # Output shape: (32, 28, 28)\n",
    "        X = relu(X)\n",
    "        X = max_pool2d(X, pool_size=(2, 2), stride=2)        # Output shape: (32, 14, 14)\n",
    "        \n",
    "        # Second Convolutional Block\n",
    "        X = conv2d(X, self.filters2, stride=1, padding=1)    # Output shape: (64, 14, 14)\n",
    "        X = relu(X)\n",
    "        X = max_pool2d(X, pool_size=(2, 2), stride=2)          # Output shape: (64, 7, 7)\n",
    "        \n",
    "        # Third Convolutional Block\n",
    "        X = conv2d(X, self.filters3, stride=1, padding=1)    # Output shape: (64, 7, 7)\n",
    "        X = relu(X)\n",
    "        \n",
    "        # Flatten\n",
    "        X_flat = flatten(X)  # shape: (64*7*7,)\n",
    "        \n",
    "        # Dense Layers\n",
    "        X_dense = dense(X_flat, self.dense_weights1, self.dense_bias1, activation='relu')\n",
    "        output = dense(X_dense, self.dense_weights2, self.dense_bias2, activation='softmax')\n",
    "        \n",
    "        return output"
   ]
  },
  {
   "cell_type": "markdown",
   "metadata": {},
   "source": [
    "Testing"
   ]
  },
  {
   "cell_type": "code",
   "execution_count": 17,
   "metadata": {},
   "outputs": [
    {
     "name": "stdout",
     "output_type": "stream",
     "text": [
      "Output shape: (1, 10)\n",
      "Output probabilities: [[0.09999855 0.1000011  0.09999965 0.10000329 0.09999672 0.10000317\n",
      "  0.09999878 0.09999901 0.10000066 0.09999907]]\n"
     ]
    }
   ],
   "source": [
    "# Example input: a 28x28 image with 1 channel (grayscale)\n",
    "X = np.random.randn(1, 28, 28)  # shape: (channels, height, width)\n",
    "\n",
    "# Initialize the CNN model and perform a forward pass\n",
    "model = CNN()\n",
    "output = model.forward(X)\n",
    "\n",
    "print(\"Output shape:\", output.shape)\n",
    "print(\"Output probabilities:\", output)"
   ]
  }
 ],
 "metadata": {
  "kernelspec": {
   "display_name": "env",
   "language": "python",
   "name": "python3"
  },
  "language_info": {
   "codemirror_mode": {
    "name": "ipython",
    "version": 3
   },
   "file_extension": ".py",
   "mimetype": "text/x-python",
   "name": "python",
   "nbconvert_exporter": "python",
   "pygments_lexer": "ipython3",
   "version": "3.12.7"
  }
 },
 "nbformat": 4,
 "nbformat_minor": 2
}
