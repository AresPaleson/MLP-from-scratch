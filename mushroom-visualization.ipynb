{
 "cells": [
  {
   "cell_type": "code",
   "execution_count": 2,
   "metadata": {},
   "outputs": [],
   "source": [
    "import numpy as np\n",
    "import matplotlib.pyplot as plt"
   ]
  },
  {
   "cell_type": "markdown",
   "metadata": {},
   "source": [
    "- One-Hot Encoding (OHE)\n",
    "    each unique category becomes a seperate binary column\n",
    "    for 22 features\n",
    "- Label Encoding\n",
    "    assigns a unique number to each category"
   ]
  },
  {
   "cell_type": "code",
   "execution_count": null,
   "metadata": {},
   "outputs": [],
   "source": [
    "#deleting missing value stalk-root\n",
    "'''\n",
    "with open('agaricus-lepiota.data', 'r') as f:\n",
    "    datalines = f.read().splitlines()\n",
    "\n",
    "with open('processed.data', 'w') as f:\n",
    "    for line in datalines:\n",
    "        items = line.strip().split(',')\n",
    "        \n",
    "        if len(items) > 11:\n",
    "            del items[11]\n",
    "\n",
    "        modified = ','.join(items) + '\\n'\n",
    "        f.write(modified)\n",
    "'''"
   ]
  },
  {
   "cell_type": "code",
   "execution_count": 4,
   "metadata": {},
   "outputs": [
    {
     "name": "stdout",
     "output_type": "stream",
     "text": [
      "['p,x,s,n,t,p,f,c,n,k,e,s,s,w,w,p,w,o,p,k,s,u', 'e,x,s,y,t,a,f,c,b,k,e,s,s,w,w,p,w,o,p,n,n,g', 'e,b,s,w,t,l,f,c,b,n,e,s,s,w,w,p,w,o,p,n,n,m', 'p,x,y,w,t,p,f,c,n,n,e,s,s,w,w,p,w,o,p,k,s,u', 'e,x,s,g,f,n,f,w,b,k,t,s,s,w,w,p,w,o,e,n,a,g']\n",
      "{11: 2480}\n"
     ]
    }
   ],
   "source": [
    "column_names = [ \"class\", \"cap-shape\", \"cap-surface\", \n",
    "                \"cap-color\", \"bruises\", \"odor\", \n",
    "                \"gill-attachment\", \"gill-spacing\", \n",
    "                \"gill-size\", \"gill-color\", \"stalk-shape\", \n",
    "                \"stalk-root\", \"stalk-surface-above-ring\", \n",
    "                \"stalk-surface-below-ring\", \n",
    "                \"stalk-color-above-ring\", \n",
    "                \"stalk-color-below-ring\", \"veil-type\", \n",
    "                \"veil-color\", \"ring-number\", \"ring-type\", \n",
    "                \"spore-print-color\", \"population\", \"habitat\" ]\n",
    "\n",
    "with open('processed.data', 'r') as f:\n",
    "    lines = f.read().splitlines()\n",
    "\n",
    "count = {}\n",
    "for i in datalines:\n",
    "    i = i.split(',')\n",
    "    for miss in i:\n",
    "        if miss == '?':\n",
    "            count[i.index(miss)] = count.get(i.index(miss), 0) + 1\n",
    "\n",
    "#checking head\n",
    "print(lines[:5])\n",
    "#checking missing values\n",
    "print(count)"
   ]
  }
 ],
 "metadata": {
  "kernelspec": {
   "display_name": "env",
   "language": "python",
   "name": "python3"
  },
  "language_info": {
   "codemirror_mode": {
    "name": "ipython",
    "version": 3
   },
   "file_extension": ".py",
   "mimetype": "text/x-python",
   "name": "python",
   "nbconvert_exporter": "python",
   "pygments_lexer": "ipython3",
   "version": "3.11.9"
  }
 },
 "nbformat": 4,
 "nbformat_minor": 2
}
